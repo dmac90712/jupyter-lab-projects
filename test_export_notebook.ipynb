{
 "cells": [
  {
   "cell_type": "markdown",
   "id": "31996a79",
   "metadata": {},
   "source": [
    "# Test Notebook\n",
    "This is a sample notebook to test PDF export."
   ]
  },
  {
   "cell_type": "code",
   "execution_count": null,
   "id": "7f9e9a81",
   "metadata": {},
   "outputs": [],
   "source": [
    "x = 5\n",
    "x ** 2"
   ]
  },
  {
   "cell_type": "markdown",
   "id": "02b66c88",
   "metadata": {},
   "source": [
    "If this exports successfully, your PDF setup is working."
   ]
  }
 ],
 "metadata": {},
 "nbformat": 4,
 "nbformat_minor": 5
}
